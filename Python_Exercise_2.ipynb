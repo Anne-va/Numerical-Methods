{
  "nbformat": 4,
  "nbformat_minor": 0,
  "metadata": {
    "colab": {
      "name": "Python Exercise 2.ipynb",
      "provenance": [],
      "authorship_tag": "ABX9TyN3iKwnqjLxcCdw9+sh/76R",
      "include_colab_link": true
    },
    "kernelspec": {
      "name": "python3",
      "display_name": "Python 3"
    },
    "language_info": {
      "name": "python"
    }
  },
  "cells": [
    {
      "cell_type": "markdown",
      "metadata": {
        "id": "view-in-github",
        "colab_type": "text"
      },
      "source": [
        "<a href=\"https://colab.research.google.com/github/Anne-va/Numerical-Methods/blob/main/Python_Exercise_2.ipynb\" target=\"_parent\"><img src=\"https://colab.research.google.com/assets/colab-badge.svg\" alt=\"Open In Colab\"/></a>"
      ]
    },
    {
      "cell_type": "markdown",
      "metadata": {
        "id": "dn2xXJuepiya"
      },
      "source": [
        "**Matrix and Its Operations**\n",
        "\n",
        "$$\n",
        "A = \\begin{bmatrix} -5, 0\\\\ 4, 1\\end{bmatrix},\n",
        "B = \\begin{bmatrix} 6, -3\\\\ 2, 3\\end{bmatrix}\\\\ $$"
      ]
    },
    {
      "cell_type": "code",
      "metadata": {
        "id": "bcQ6zH_tpg6a"
      },
      "source": [
        "import numpy as np\n",
        "\n",
        "A = np.array([[-5, 0],\n",
        "             [4, 1]])\n",
        "B = np.array([[6, -3],\n",
        "             [2, 3]])\n",
        "\n",
        "sum = A + B\n",
        "difference1 = B - A\n",
        "difference2 = A - B"
      ],
      "execution_count": null,
      "outputs": []
    },
    {
      "cell_type": "code",
      "metadata": {
        "colab": {
          "base_uri": "https://localhost:8080/"
        },
        "id": "WtgQz-N8p3ag",
        "outputId": "9bdb65ef-0e69-4ab4-93bc-07afc6b94903"
      },
      "source": [
        "print(sum)"
      ],
      "execution_count": 2,
      "outputs": [
        {
          "output_type": "stream",
          "name": "stdout",
          "text": [
            "[[ 1 -3]\n",
            " [ 6  4]]\n"
          ]
        }
      ]
    },
    {
      "cell_type": "code",
      "metadata": {
        "colab": {
          "base_uri": "https://localhost:8080/"
        },
        "id": "ITJD4GIMp40V",
        "outputId": "25458860-2360-4922-ac9f-0e3c710a982b"
      },
      "source": [
        "print(difference1)"
      ],
      "execution_count": 3,
      "outputs": [
        {
          "output_type": "stream",
          "name": "stdout",
          "text": [
            "[[11 -3]\n",
            " [-2  2]]\n"
          ]
        }
      ]
    },
    {
      "cell_type": "code",
      "metadata": {
        "colab": {
          "base_uri": "https://localhost:8080/"
        },
        "id": "nBXFwlEyp6N1",
        "outputId": "e63b185c-5411-4f66-ad4a-5c3f51625edb"
      },
      "source": [
        "print(difference2)"
      ],
      "execution_count": 4,
      "outputs": [
        {
          "output_type": "stream",
          "name": "stdout",
          "text": [
            "[[-11   3]\n",
            " [  2  -2]]\n"
          ]
        }
      ]
    }
  ]
}